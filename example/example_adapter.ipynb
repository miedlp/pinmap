{
 "cells": [
  {
   "cell_type": "markdown",
   "metadata": {},
   "source": [
    "# TODO list\n",
    "\n",
    "* Overview of all available special modules like UART, SPI, etc.\n",
    "* Improve report output"
   ]
  },
  {
   "cell_type": "markdown",
   "metadata": {},
   "source": [
    "### 1. Prefix\n",
    "This jupyter notebook can be used as a tool to create adapter board pin-mappings.\n",
    "To be able to import the modules placed in the mt namespace, we need to add the directory containing the mt-module to the system path."
   ]
  },
  {
   "cell_type": "code",
   "execution_count": null,
   "metadata": {},
   "outputs": [],
   "source": [
    "import datetime as dt\n",
    "import os\n",
    "import sys\n",
    "import pathlib as pl\n",
    "\n",
    "PACKAGE_ROOT_PATH = str(pl.Path(os.getcwd()).parent.parent)\n",
    "if PACKAGE_ROOT_PATH not in sys.path:\n",
    "    sys.path.append(PACKAGE_ROOT_PATH)\n",
    "\n",
    "from pinmap.board import Board\n",
    "from pinmap.adapter import Adapter"
   ]
  },
  {
   "cell_type": "markdown",
   "metadata": {},
   "source": [
    "### 2. Configuration and Setup\n",
    "The tool requires two input files:\n",
    "* The Baseboard pin definition, this file must contain following colums:\n",
    "  * `Column`: Column of an EDB-Pin in the plug-grid, typically `A`, `B` or `C`\n",
    "  * `Row`: Row number of an EDB-Pin in the plug-grid, typically `1`-`32`\n",
    "  * `Bus`: Defines whether an EDB-Pin belongs to a bus, which requires the usage of the same MCU module, e.g. `UART0`.\n",
    "  * `Signal`: The signal which is connected to the EDB-Pin, e.g. `UART0_TXD`.\n",
    "  * `Status`: `Open` if the default jumper setting on the MT-EDB is open, `Closed` if it is closed.\n",
    "  * `Regex-Module`: Regular expression to find all MCU modules which have pins that can be connected to this EDB-Pin, e.g. `FC`. Used to filter `ALT<x>_Module` inputs from `MCUBOARD_PINFILE_PATH`.\n",
    "  * `Regex-Function`: Regular expression to find all MCU pins wich have the correct function to be connected to this EDB-Pin, e.g. `TX`. Used to filter `ALT<x>_Function` inputs from `MCUBOARD_PINFILE_PATH`.\n",
    "* The MCU-Board pin definitions, this file must contain following colums:\n",
    "  * `Board-Pin`: Identifier of the MCU-Pin on the MCU-Board, e.g. `J12_3`.\n",
    "  * `MCU-Pin`: Identifier of the MCU-Pin at the MCU,  e.g. `PIO0_2`.\n",
    "  * For a MCU that allows to route N different functions to a pin, N-pairs of the folloing columns:\n",
    "    * `ALT<x>-Module`: Module connected if function `x` is selected, e.g. `FC0`. Leave empty if not available. See MCU-Documentation for details.\n",
    "    * `ALT<x>-Function`: Function that is available at the MCU-Pin if function `x` is selected, e.g. `TXD_SCL_MISO`. Leave empty if not available. See MCU-Documentation for details.\n",
    "\n",
    "**ATTENTION:**: The values in the Baseboard and MCU-Board pin definitions MUST NOT contain any hyphens (`-`), as this is used as separator for the mapping strings.\n",
    "\n",
    "  For further configurations parameters please see the filebackend-Class constructor description."
   ]
  },
  {
   "cell_type": "code",
   "execution_count": null,
   "metadata": {},
   "outputs": [],
   "source": [
    "baseboard = Board(vendor=\"CME\", longname=\"ExampleBaseboard\", shortname=\"DMY\", revision=\"A\")\n",
    "mcuboard  = Board(vendor=\"CME\", longname=\"ExampleMcuBoard\", shortname=\"SDMB\", revision=\"A\")\n",
    "adapter   = Adapter(baseboard = baseboard, mcuboard=mcuboard, guiLabelIdWidth=70,\n",
    "                    generate=(pl.Path(os.getcwd()).joinpath('example_baseboard.csv'), pl.Path(os.getcwd()).joinpath('example_mcuboard.csv'))\n",
    "                   )"
   ]
  },
  {
   "cell_type": "markdown",
   "metadata": {},
   "source": [
    "### 3. Mapping frontend\n",
    "* The symbol `_\\_` indicates that this signal jumper on the MT-EDB is open by default, i.e. this signal is not connected. This means, signal conflicts do not have an impact on the standard setting.\n",
    "* All UARTs should be connected with high priority, as those are required for MT-RPC UART tests.\n",
    "* If there are too few interface modules available or pin conflicts, one I2C bus could be operated with GPIO bitbanging mode instead of a dedicated I2C module. One I2C bus *must* be a dedicated I2C module though, to be able to test hardware I2C support."
   ]
  },
  {
   "cell_type": "code",
   "execution_count": null,
   "metadata": {},
   "outputs": [],
   "source": [
    "adapter.mappingFrontEnd"
   ]
  },
  {
   "cell_type": "markdown",
   "metadata": {},
   "source": [
    "### 4. Export and re-import\n",
    "To save the state of a mapping, call the export method of the mapping object:"
   ]
  },
  {
   "cell_type": "code",
   "execution_count": null,
   "metadata": {},
   "outputs": [],
   "source": [
    "adapter.exportMapping()"
   ]
  },
  {
   "cell_type": "code",
   "execution_count": null,
   "metadata": {},
   "outputs": [],
   "source": [
    "adapterReImported = Adapter(baseboard = baseboard, mcuboard=mcuboard, guiLabelIdWidth=70,\n",
    "                            revision='A'\n",
    "                           )"
   ]
  },
  {
   "cell_type": "code",
   "execution_count": null,
   "metadata": {},
   "outputs": [],
   "source": [
    "adapterReImported.mappingFrontEnd"
   ]
  }
 ],
 "metadata": {
  "kernelspec": {
   "display_name": ".venv",
   "language": "python",
   "name": "python3"
  },
  "language_info": {
   "codemirror_mode": {
    "name": "ipython",
    "version": 3
   },
   "file_extension": ".py",
   "mimetype": "text/x-python",
   "name": "python",
   "nbconvert_exporter": "python",
   "pygments_lexer": "ipython3",
   "version": "3.10.10"
  }
 },
 "nbformat": 4,
 "nbformat_minor": 2
}
